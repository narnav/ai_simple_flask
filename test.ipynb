{
 "cells": [
  {
   "cell_type": "markdown",
   "metadata": {},
   "source": [
    "# this is ML example"
   ]
  },
  {
   "cell_type": "code",
   "execution_count": 16,
   "metadata": {},
   "outputs": [
    {
     "name": "stderr",
     "output_type": "stream",
     "text": [
      "c:\\Users\\rabak\\AppData\\Local\\Programs\\Python\\Python310\\lib\\site-packages\\sklearn\\base.py:409: UserWarning: X does not have valid feature names, but DecisionTreeClassifier was fitted with feature names\n",
      "  warnings.warn(\n"
     ]
    },
    {
     "data": {
      "text/plain": [
       "array(['Jazz', 'Dance'], dtype=object)"
      ]
     },
     "execution_count": 16,
     "metadata": {},
     "output_type": "execute_result"
    }
   ],
   "source": [
    "# import sys\n",
    "# !{sys.executable} -m pip install  pandas\n",
    "# !{sys.executable} -m pip install pandas\n",
    "import joblib\n",
    "from sklearn.tree import DecisionTreeClassifier\n",
    "import pandas as pd\n",
    " \n",
    "# loading data\n",
    "music_dt  =pd.read_csv( 'music.csv')\n",
    " \n",
    "# # display the data\n",
    "# music_dt.info()\n",
    " \n",
    "# prepare 2 groups (features, output)\n",
    "X=music_dt.drop(columns=['genre']) # sample features ,[Age,Gender]\n",
    "Y=music_dt['genre'] # sample output ['genere']\n",
    " \n",
    "model = DecisionTreeClassifier()\n",
    "model.fit(X,Y) # load features and sample data\n",
    "joblib.dump(model, 'our_pridction.joblib') #binary file\n",
    "predictions= model.predict([[30,1],[25,0]]) # make prediction base on the features and samp output\n",
    "# # Hip,dance\n",
    "predictions"
   ]
  },
  {
   "cell_type": "code",
   "execution_count": 17,
   "metadata": {},
   "outputs": [
    {
     "name": "stderr",
     "output_type": "stream",
     "text": [
      "c:\\Users\\rabak\\AppData\\Local\\Programs\\Python\\Python310\\lib\\site-packages\\sklearn\\base.py:409: UserWarning: X does not have valid feature names, but DecisionTreeClassifier was fitted with feature names\n",
      "  warnings.warn(\n"
     ]
    },
    {
     "data": {
      "text/plain": [
       "array(['HipHop'], dtype=object)"
      ]
     },
     "execution_count": 17,
     "metadata": {},
     "output_type": "execute_result"
    }
   ],
   "source": [
    "model=joblib.load('our_pridction.joblib')\n",
    "predictions= model.predict([[21,1]])\n",
    "predictions\n"
   ]
  }
 ],
 "metadata": {
  "kernelspec": {
   "display_name": "Python 3",
   "language": "python",
   "name": "python3"
  },
  "language_info": {
   "codemirror_mode": {
    "name": "ipython",
    "version": 3
   },
   "file_extension": ".py",
   "mimetype": "text/x-python",
   "name": "python",
   "nbconvert_exporter": "python",
   "pygments_lexer": "ipython3",
   "version": "3.10.4"
  },
  "orig_nbformat": 4,
  "vscode": {
   "interpreter": {
    "hash": "fe20b433f3e58147de64da480ce071f87a3f4a13df8c97aaa6e567acf0e8771c"
   }
  }
 },
 "nbformat": 4,
 "nbformat_minor": 2
}
