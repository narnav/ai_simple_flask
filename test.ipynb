{
 "cells": [
  {
   "cell_type": "markdown",
   "metadata": {},
   "source": [
    "# this is ML example"
   ]
  },
  {
   "cell_type": "code",
   "execution_count": 26,
   "metadata": {},
   "outputs": [
    {
     "name": "stderr",
     "output_type": "stream",
     "text": [
      "c:\\Python310\\lib\\site-packages\\sklearn\\base.py:450: UserWarning: X does not have valid feature names, but DecisionTreeClassifier was fitted with feature names\n",
      "  warnings.warn(\n"
     ]
    },
    {
     "data": {
      "text/plain": [
       "array(['HipHop', 'Dance'], dtype=object)"
      ]
     },
     "execution_count": 26,
     "metadata": {},
     "output_type": "execute_result"
    }
   ],
   "source": [
    "# import sys\n",
    "# !{sys.executable} -m pip install  pandas\n",
    "import joblib\n",
    "from sklearn.tree import DecisionTreeClassifier\n",
    "import pandas as pd\n",
    " \n",
    "# loading data\n",
    "music_dt  =pd.read_csv( 'music.csv')\n",
    " \n",
    "# # display the data\n",
    "# music_dt.tail()\n",
    " \n",
    "# prepare 2 groups (features, output)\n",
    "X=music_dt.drop(columns=['genre']) # sample features ,[Age,Gender]\n",
    "Y=music_dt['genre'] # sample output ['genere']\n",
    " \n",
    "model = DecisionTreeClassifier()\n",
    "model.fit(X,Y) # load features and sample data\n",
    "joblib.dump(model, 'our_pridction.joblib') #binary file\n",
    "predictions= model.predict([[21,1],[22,0]]) # make prediction base on the features and samp output\n",
    "# Hip,dance\n",
    "predictions"
   ]
  },
  {
   "cell_type": "code",
   "execution_count": 25,
   "metadata": {},
   "outputs": [
    {
     "name": "stderr",
     "output_type": "stream",
     "text": [
      "c:\\Python310\\lib\\site-packages\\sklearn\\base.py:450: UserWarning: X does not have valid feature names, but DecisionTreeClassifier was fitted with feature names\n",
      "  warnings.warn(\n"
     ]
    },
    {
     "data": {
      "text/plain": [
       "array(['HipHop'], dtype=object)"
      ]
     },
     "execution_count": 25,
     "metadata": {},
     "output_type": "execute_result"
    }
   ],
   "source": [
    "model=joblib.load('our_pridction.joblib')\n",
    "predictions= model.predict([[21,1]])\n",
    "predictions\n"
   ]
  }
 ],
 "metadata": {
  "kernelspec": {
   "display_name": "Python 3.10.7 ('Python310')",
   "language": "python",
   "name": "python3"
  },
  "language_info": {
   "codemirror_mode": {
    "name": "ipython",
    "version": 3
   },
   "file_extension": ".py",
   "mimetype": "text/x-python",
   "name": "python",
   "nbconvert_exporter": "python",
   "pygments_lexer": "ipython3",
   "version": "3.10.7"
  },
  "orig_nbformat": 4,
  "vscode": {
   "interpreter": {
    "hash": "ffc30bce146115a487e88e13620efc04159c97195effb2b786c92c140869cf1c"
   }
  }
 },
 "nbformat": 4,
 "nbformat_minor": 2
}
